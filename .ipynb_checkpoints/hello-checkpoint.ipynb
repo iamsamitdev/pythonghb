{
 "cells": [
  {
   "cell_type": "markdown",
   "id": "c1ebb16f-edbd-4022-92b6-bc37434f20c7",
   "metadata": {},
   "source": [
    "### ตัวอย่างการเขียนไพทอน"
   ]
  },
  {
   "cell_type": "code",
   "execution_count": 16,
   "id": "62c32752-f96b-48dd-a644-73e1930eb9f3",
   "metadata": {},
   "outputs": [
    {
     "name": "stdout",
     "output_type": "stream",
     "text": [
      "Hello Python\n"
     ]
    }
   ],
   "source": [
    "print(\"Hello Python\")"
   ]
  },
  {
   "cell_type": "code",
   "execution_count": 17,
   "id": "49fa4c97-9c77-4bd4-844f-1c549059ca60",
   "metadata": {},
   "outputs": [],
   "source": [
    "name = \"Samit\"\n",
    "age = 40"
   ]
  },
  {
   "cell_type": "code",
   "execution_count": 18,
   "id": "442d5322-7ea4-4e68-a442-3d22d19ebd6f",
   "metadata": {},
   "outputs": [
    {
     "name": "stdout",
     "output_type": "stream",
     "text": [
      "Samit\n",
      "40\n"
     ]
    }
   ],
   "source": [
    "print(name)\n",
    "print(age)"
   ]
  },
  {
   "cell_type": "markdown",
   "id": "ae47cb87-d978-4e73-b832-fadf5e46d6b9",
   "metadata": {},
   "source": [
    "### ตัวอย่างการเขียนฟังก์ชัน"
   ]
  },
  {
   "cell_type": "code",
   "execution_count": 19,
   "id": "0b7a83c5-60b2-41f9-add5-f46cf5799710",
   "metadata": {},
   "outputs": [],
   "source": [
    "def demo():\n",
    "    print(\"Hello Python\")"
   ]
  },
  {
   "cell_type": "code",
   "execution_count": 20,
   "id": "cc5da071-f042-43d6-aea2-223b001815b8",
   "metadata": {},
   "outputs": [
    {
     "name": "stdout",
     "output_type": "stream",
     "text": [
      "Hello Python\n"
     ]
    }
   ],
   "source": [
    "demo()"
   ]
  }
 ],
 "metadata": {
  "kernelspec": {
   "display_name": "Python 3 (ipykernel)",
   "language": "python",
   "name": "python3"
  },
  "language_info": {
   "codemirror_mode": {
    "name": "ipython",
    "version": 3
   },
   "file_extension": ".py",
   "mimetype": "text/x-python",
   "name": "python",
   "nbconvert_exporter": "python",
   "pygments_lexer": "ipython3",
   "version": "3.11.5"
  }
 },
 "nbformat": 4,
 "nbformat_minor": 5
}
